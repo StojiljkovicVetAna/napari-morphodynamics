{
 "cells": [
  {
   "cell_type": "code",
   "execution_count": 2,
   "metadata": {},
   "outputs": [],
   "source": [
    "from IPython.display import Image"
   ]
  },
  {
   "cell_type": "markdown",
   "metadata": {},
   "source": [
    "# Installation\n",
    "\n",
    "To use this plugin you need to be familiar with napari. Napari is an interactive viewer for images in Python, but is also becoming a popular standalone application for bioimage analysis. \n",
    "\n",
    "After downloading the napari viewer, you can download many different plugins, which are mostly specific for an image analysis task. **napari-morphodynamics** is a plugin for napari. Therefore, to get started you need a running napari installation.\n",
    "\n",
    "For more information on what is napari and how to download it you can browse the official [napari website](https://napari.org/stable/index.html).\n",
    "\n",
    "## Conda environment\n",
    "\n",
    "Here we will describe one of the methods you could use, by using the package and environment manager [conda](https://docs.conda.io/en/latest/index.html). If you have conda installed (e.g. after installing anaconda, miniconda or micromamba) in Windows you will need to search for the \"Anaconda Prompt\" application, which will open a command prompt. For macOS and Linux users you can simply open a new terminal.\n",
    "\n",
    "In the round brackets is indicated in which **environment** are you working, and by default it opens the base environment (base). What follows is the path of the folder that you are working in. For example, all the outputs of specific operations will be saved in this folder.\n",
    "\n",
    "Now you have to make sure that you have all the packages you need to run your software in a given environment. With conda you can have different environments on your computer, so that you can install different versions of a specific package, or even different python versions.\n",
    "\n",
    "**NEVER USE YOUR BASE ENVIRONMENT!!!**\n",
    "\n",
    "For every new project you should create a new environment. And this is what we will do for napari. We will create a new environment with the python version that we want, and the packages that we need to use napari-morphodynamics.\n"
   ]
  },
  {
   "cell_type": "code",
   "execution_count": 3,
   "metadata": {},
   "outputs": [
    {
     "data": {
      "image/png": "[encoded data removed]",
      "text/plain": [
       "<IPython.core.display.Image object>"
      ]
     },
     "execution_count": 3,
     "metadata": {},
     "output_type": "execute_result"
    }
   ],
   "source": [
    "Image('images/Anaconda Prompt.png')"
   ]
  },
  {
   "cell_type": "markdown",
   "metadata": {},
   "source": []
  }
 ],
 "metadata": {
  "kernelspec": {
   "display_name": "Python 3",
   "language": "python",
   "name": "python3"
  },
  "language_info": {
   "codemirror_mode": {
    "name": "ipython",
    "version": 3
   },
   "file_extension": ".py",
   "mimetype": "text/x-python",
   "name": "python",
   "nbconvert_exporter": "python",
   "pygments_lexer": "ipython3",
   "version": "3.9.17"
  },
  "orig_nbformat": 4
 },
 "nbformat": 4,
 "nbformat_minor": 2
}
